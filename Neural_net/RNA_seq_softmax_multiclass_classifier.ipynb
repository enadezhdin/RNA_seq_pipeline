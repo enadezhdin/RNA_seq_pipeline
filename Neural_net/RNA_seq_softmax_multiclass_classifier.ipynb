{
 "cells": [
  {
   "cell_type": "code",
   "execution_count": 1,
   "metadata": {},
   "outputs": [],
   "source": [
    "%matplotlib inline"
   ]
  },
  {
   "cell_type": "code",
   "execution_count": 2,
   "metadata": {
    "_cell_guid": "b1076dfc-b9ad-4769-8c92-a6c4dae69d19",
    "_uuid": "8f2839f25d086af736a60e9eeb907d3b93b6e0e5"
   },
   "outputs": [
    {
     "name": "stderr",
     "output_type": "stream",
     "text": [
      "Using TensorFlow backend.\n"
     ]
    }
   ],
   "source": [
    "import numpy as np \n",
    "import pandas as pd \n",
    "import os\n",
    "import keras\n",
    "import matplotlib.pyplot as plt\n",
    "from numpy import genfromtxt"
   ]
  },
  {
   "cell_type": "code",
   "execution_count": 3,
   "metadata": {},
   "outputs": [],
   "source": [
    "# import raw counts"
   ]
  },
  {
   "cell_type": "code",
   "execution_count": 4,
   "metadata": {
    "_kg_hide-output": false,
    "_uuid": "221ed01cfcfef655e47b35b7c84488b01ef69a20",
    "scrolled": true
   },
   "outputs": [],
   "source": [
    "data=pd.read_csv('/home/eugene/rna_seq/RNAseq_Counts_Bacillus_new.csv')"
   ]
  },
  {
   "cell_type": "code",
   "execution_count": 5,
   "metadata": {
    "_uuid": "0cf1823b818c3f44fb53f26bd975b0814c256f48"
   },
   "outputs": [
    {
     "data": {
      "text/plain": [
       "(4255, 17)"
      ]
     },
     "execution_count": 5,
     "metadata": {},
     "output_type": "execute_result"
    }
   ],
   "source": [
    "data.shape"
   ]
  },
  {
   "cell_type": "code",
   "execution_count": 6,
   "metadata": {},
   "outputs": [],
   "source": [
    "#look at the data"
   ]
  },
  {
   "cell_type": "code",
   "execution_count": 7,
   "metadata": {
    "_uuid": "ee5e547bef672af784ac66cda57a370db5c5f8c4"
   },
   "outputs": [
    {
     "data": {
      "text/html": [
       "<div>\n",
       "<style scoped>\n",
       "    .dataframe tbody tr th:only-of-type {\n",
       "        vertical-align: middle;\n",
       "    }\n",
       "\n",
       "    .dataframe tbody tr th {\n",
       "        vertical-align: top;\n",
       "    }\n",
       "\n",
       "    .dataframe thead th {\n",
       "        text-align: right;\n",
       "    }\n",
       "</style>\n",
       "<table border=\"1\" class=\"dataframe\">\n",
       "  <thead>\n",
       "    <tr style=\"text-align: right;\">\n",
       "      <th></th>\n",
       "      <th>Unnamed: 0</th>\n",
       "      <th>B_subtilis_021_B_rep1</th>\n",
       "      <th>B_subtilis_021_B_rep2</th>\n",
       "      <th>B_subtilis_021_LC_rep1</th>\n",
       "      <th>B_subtilis_021_LC_rep2</th>\n",
       "    </tr>\n",
       "  </thead>\n",
       "  <tbody>\n",
       "    <tr>\n",
       "      <th>0</th>\n",
       "      <td>BSU00010</td>\n",
       "      <td>947.0</td>\n",
       "      <td>932.0</td>\n",
       "      <td>635.0</td>\n",
       "      <td>1067.0</td>\n",
       "    </tr>\n",
       "    <tr>\n",
       "      <th>1</th>\n",
       "      <td>BSU00020</td>\n",
       "      <td>434.0</td>\n",
       "      <td>465.0</td>\n",
       "      <td>759.0</td>\n",
       "      <td>1365.0</td>\n",
       "    </tr>\n",
       "    <tr>\n",
       "      <th>2</th>\n",
       "      <td>BSU00030</td>\n",
       "      <td>151.0</td>\n",
       "      <td>150.0</td>\n",
       "      <td>43.0</td>\n",
       "      <td>89.0</td>\n",
       "    </tr>\n",
       "    <tr>\n",
       "      <th>3</th>\n",
       "      <td>BSU00040</td>\n",
       "      <td>2121.0</td>\n",
       "      <td>1805.0</td>\n",
       "      <td>536.0</td>\n",
       "      <td>1017.0</td>\n",
       "    </tr>\n",
       "    <tr>\n",
       "      <th>4</th>\n",
       "      <td>BSU00050</td>\n",
       "      <td>272.0</td>\n",
       "      <td>227.0</td>\n",
       "      <td>53.0</td>\n",
       "      <td>95.0</td>\n",
       "    </tr>\n",
       "    <tr>\n",
       "      <th>5</th>\n",
       "      <td>BSU00060</td>\n",
       "      <td>3222.0</td>\n",
       "      <td>2696.0</td>\n",
       "      <td>1849.0</td>\n",
       "      <td>3028.0</td>\n",
       "    </tr>\n",
       "    <tr>\n",
       "      <th>6</th>\n",
       "      <td>BSU00070</td>\n",
       "      <td>4765.0</td>\n",
       "      <td>4222.0</td>\n",
       "      <td>4154.0</td>\n",
       "      <td>7642.0</td>\n",
       "    </tr>\n",
       "    <tr>\n",
       "      <th>7</th>\n",
       "      <td>BSU00080</td>\n",
       "      <td>46.0</td>\n",
       "      <td>52.0</td>\n",
       "      <td>19.0</td>\n",
       "      <td>38.0</td>\n",
       "    </tr>\n",
       "    <tr>\n",
       "      <th>8</th>\n",
       "      <td>BSU00090</td>\n",
       "      <td>1288.0</td>\n",
       "      <td>1196.0</td>\n",
       "      <td>3031.0</td>\n",
       "      <td>4560.0</td>\n",
       "    </tr>\n",
       "    <tr>\n",
       "      <th>9</th>\n",
       "      <td>BSU00100</td>\n",
       "      <td>973.0</td>\n",
       "      <td>997.0</td>\n",
       "      <td>587.0</td>\n",
       "      <td>1264.0</td>\n",
       "    </tr>\n",
       "  </tbody>\n",
       "</table>\n",
       "</div>"
      ],
      "text/plain": [
       "  Unnamed: 0  B_subtilis_021_B_rep1  B_subtilis_021_B_rep2  \\\n",
       "0   BSU00010                  947.0                  932.0   \n",
       "1   BSU00020                  434.0                  465.0   \n",
       "2   BSU00030                  151.0                  150.0   \n",
       "3   BSU00040                 2121.0                 1805.0   \n",
       "4   BSU00050                  272.0                  227.0   \n",
       "5   BSU00060                 3222.0                 2696.0   \n",
       "6   BSU00070                 4765.0                 4222.0   \n",
       "7   BSU00080                   46.0                   52.0   \n",
       "8   BSU00090                 1288.0                 1196.0   \n",
       "9   BSU00100                  973.0                  997.0   \n",
       "\n",
       "   B_subtilis_021_LC_rep1  B_subtilis_021_LC_rep2  \n",
       "0                   635.0                  1067.0  \n",
       "1                   759.0                  1365.0  \n",
       "2                    43.0                    89.0  \n",
       "3                   536.0                  1017.0  \n",
       "4                    53.0                    95.0  \n",
       "5                  1849.0                  3028.0  \n",
       "6                  4154.0                  7642.0  \n",
       "7                    19.0                    38.0  \n",
       "8                  3031.0                  4560.0  \n",
       "9                   587.0                  1264.0  "
      ]
     },
     "execution_count": 7,
     "metadata": {},
     "output_type": "execute_result"
    }
   ],
   "source": [
    "data.iloc[0:10,0:5]"
   ]
  },
  {
   "cell_type": "code",
   "execution_count": 8,
   "metadata": {},
   "outputs": [],
   "source": [
    "#may be not best way - import data again as a numpy array"
   ]
  },
  {
   "cell_type": "code",
   "execution_count": 9,
   "metadata": {
    "_uuid": "94715ac67804e419b3d4d4b394c2664242c6ae81"
   },
   "outputs": [],
   "source": [
    "my_data = genfromtxt('/home/eugene/rna_seq/RNAseq_Counts_Bacillus_new.csv', delimiter=',')"
   ]
  },
  {
   "cell_type": "code",
   "execution_count": 10,
   "metadata": {},
   "outputs": [],
   "source": [
    "#remove row and column with description (processed incorrectly)"
   ]
  },
  {
   "cell_type": "code",
   "execution_count": 11,
   "metadata": {
    "_uuid": "478f80188568361040aed743e99330b89cba28b9"
   },
   "outputs": [],
   "source": [
    "my_data=np.delete(my_data,[0],0)\n",
    "my_data=np.delete(my_data,[0],1)"
   ]
  },
  {
   "cell_type": "code",
   "execution_count": 12,
   "metadata": {},
   "outputs": [],
   "source": [
    "#split the data to training set and test set"
   ]
  },
  {
   "cell_type": "code",
   "execution_count": 13,
   "metadata": {},
   "outputs": [],
   "source": [
    "X_set=np.zeros((my_data.shape[0],1))\n",
    "test_set=np.zeros((my_data.shape[0],1))\n",
    "for i in range(my_data.shape[1]):\n",
    "    if i%2==1:\n",
    "        X_set=np.append(X_set,my_data[:,i:i+1],axis=1)\n",
    "    else:\n",
    "        test_set=np.append(test_set,my_data[:,i:i+1],axis=1)"
   ]
  },
  {
   "cell_type": "code",
   "execution_count": 14,
   "metadata": {},
   "outputs": [
    {
     "data": {
      "text/plain": [
       "(4255, 9)"
      ]
     },
     "execution_count": 14,
     "metadata": {},
     "output_type": "execute_result"
    }
   ],
   "source": [
    "X_set.shape"
   ]
  },
  {
   "cell_type": "code",
   "execution_count": 15,
   "metadata": {},
   "outputs": [
    {
     "data": {
      "text/plain": [
       "(4255, 9)"
      ]
     },
     "execution_count": 15,
     "metadata": {},
     "output_type": "execute_result"
    }
   ],
   "source": [
    "test_set.shape"
   ]
  },
  {
   "cell_type": "code",
   "execution_count": 16,
   "metadata": {},
   "outputs": [],
   "source": [
    "X_set=np.delete(X_set,0,1)\n",
    "test_set=np.delete(test_set,0,1)"
   ]
  },
  {
   "cell_type": "code",
   "execution_count": 17,
   "metadata": {
    "_uuid": "702cc055456c3dc453aeec7d88e5205ce6505d50"
   },
   "outputs": [],
   "source": [
    "data_array_X=X_set"
   ]
  },
  {
   "cell_type": "code",
   "execution_count": 18,
   "metadata": {},
   "outputs": [],
   "source": [
    "# in this case Y labels will be jist eye matrix with shape (8,8)"
   ]
  },
  {
   "cell_type": "code",
   "execution_count": 19,
   "metadata": {},
   "outputs": [],
   "source": [
    "Z=np.eye(8)"
   ]
  },
  {
   "cell_type": "code",
   "execution_count": 20,
   "metadata": {},
   "outputs": [],
   "source": [
    "trainX=data_array_X.transpose()"
   ]
  },
  {
   "cell_type": "code",
   "execution_count": 64,
   "metadata": {},
   "outputs": [
    {
     "data": {
      "text/plain": [
       "array([6.04436200e-04, 3.01569563e-04, 9.72805042e-05, 1.17060873e-03,\n",
       "       1.47217830e-04])"
      ]
     },
     "execution_count": 64,
     "metadata": {},
     "output_type": "execute_result"
    }
   ],
   "source": [
    "trainX[0,:5]"
   ]
  },
  {
   "cell_type": "code",
   "execution_count": 21,
   "metadata": {
    "_uuid": "c2c014eaaaacf6a4083ad634f91c2db1f10990f4"
   },
   "outputs": [],
   "source": [
    "#normalise the train array\n",
    "trainX = trainX / np.linalg.norm(trainX)"
   ]
  },
  {
   "cell_type": "code",
   "execution_count": 51,
   "metadata": {},
   "outputs": [
    {
     "data": {
      "text/plain": [
       "(8, 4255)"
      ]
     },
     "execution_count": 51,
     "metadata": {},
     "output_type": "execute_result"
    }
   ],
   "source": [
    "trainX.shape"
   ]
  },
  {
   "cell_type": "code",
   "execution_count": 41,
   "metadata": {
    "_uuid": "ded563711a001c31173de725da61f3949c85e18e"
   },
   "outputs": [],
   "source": [
    "from keras.models import Sequential\n",
    "from keras.layers import Dense, Activation, Dropout, BatchNormalization"
   ]
  },
  {
   "cell_type": "code",
   "execution_count": 151,
   "metadata": {
    "_uuid": "d09349829abadf80fb05298640ba815b9e5da665"
   },
   "outputs": [],
   "source": [
    "model=[]"
   ]
  },
  {
   "cell_type": "code",
   "execution_count": 152,
   "metadata": {
    "_uuid": "4c82a78ec31548d632fd1b6fa9b0af8ddbf3cc65"
   },
   "outputs": [],
   "source": [
    "#original model (approx 12.5-25% error)\n",
    "model = Sequential()\n",
    "model.add(Dense(1000, activation='relu', input_dim=4255))\n",
    "model.add(Dense(200, activation='relu'))\n",
    "model.add(Dense(100, activation='relu'))\n",
    "model.add(Dense(8, activation='softmax'))"
   ]
  },
  {
   "cell_type": "code",
   "execution_count": 141,
   "metadata": {},
   "outputs": [],
   "source": [
    "#testing diff models\n",
    "model = Sequential()\n",
    "model.add(Dense(1000, activation='relu', input_dim=4255))\n",
    "# model.add(BatchNormalization())\n",
    "model.add(Dense(400, activation='relu'))\n",
    "model.add(Dropout(0.3))\n",
    "# model.add(BatchNormalization())\n",
    "model.add(Dense(400, activation='relu'))\n",
    "model.add(Dropout(0.5))\n",
    "model.add(Dense(100, activation='relu'))\n",
    "# model.add(Dropout(0.3))\n",
    "# model.add(BatchNormalization())\n",
    "model.add(Dense(8, activation='softmax'))"
   ]
  },
  {
   "cell_type": "code",
   "execution_count": 153,
   "metadata": {
    "_uuid": "0549cd2429dc3ee5e2ccdfda428c5e5580d80597"
   },
   "outputs": [
    {
     "name": "stdout",
     "output_type": "stream",
     "text": [
      "_________________________________________________________________\n",
      "Layer (type)                 Output Shape              Param #   \n",
      "=================================================================\n",
      "dense_48 (Dense)             (None, 1000)              4256000   \n",
      "_________________________________________________________________\n",
      "dense_49 (Dense)             (None, 200)               200200    \n",
      "_________________________________________________________________\n",
      "dense_50 (Dense)             (None, 100)               20100     \n",
      "_________________________________________________________________\n",
      "dense_51 (Dense)             (None, 8)                 808       \n",
      "=================================================================\n",
      "Total params: 4,477,108\n",
      "Trainable params: 4,477,108\n",
      "Non-trainable params: 0\n",
      "_________________________________________________________________\n"
     ]
    }
   ],
   "source": [
    "model.summary()"
   ]
  },
  {
   "cell_type": "code",
   "execution_count": 154,
   "metadata": {},
   "outputs": [],
   "source": [
    "opt=keras.optimizers.Adam(lr=0.0005)"
   ]
  },
  {
   "cell_type": "code",
   "execution_count": 155,
   "metadata": {
    "_uuid": "236e73d08cd7a52fd9d3e34ac17efae3569e2e33"
   },
   "outputs": [],
   "source": [
    "model.compile(optimizer=opt, loss='categorical_crossentropy', metrics=['accuracy'])"
   ]
  },
  {
   "cell_type": "code",
   "execution_count": 145,
   "metadata": {},
   "outputs": [],
   "source": [
    "#train the model"
   ]
  },
  {
   "cell_type": "code",
   "execution_count": 156,
   "metadata": {
    "_uuid": "5f53692d142e130d4c2d232c8364bf9b60372ddd",
    "scrolled": false
   },
   "outputs": [
    {
     "name": "stdout",
     "output_type": "stream",
     "text": [
      "Epoch 1/200\n",
      "8/8 [==============================] - 2s 195ms/step - loss: 2.0888 - acc: 0.0000e+00\n",
      "Epoch 2/200\n",
      "8/8 [==============================] - 0s 41ms/step - loss: 2.0766 - acc: 0.0000e+00\n",
      "Epoch 3/200\n",
      "8/8 [==============================] - 0s 45ms/step - loss: 2.0652 - acc: 0.3750\n",
      "Epoch 4/200\n",
      "8/8 [==============================] - 0s 44ms/step - loss: 2.0562 - acc: 0.2500\n",
      "Epoch 5/200\n",
      "8/8 [==============================] - 0s 41ms/step - loss: 2.0442 - acc: 0.2500\n",
      "Epoch 6/200\n",
      "8/8 [==============================] - 0s 45ms/step - loss: 2.0257 - acc: 0.2500\n",
      "Epoch 7/200\n",
      "8/8 [==============================] - 0s 45ms/step - loss: 2.0029 - acc: 0.2500\n",
      "Epoch 8/200\n",
      "8/8 [==============================] - 0s 47ms/step - loss: 1.9599 - acc: 0.2500\n",
      "Epoch 9/200\n",
      "8/8 [==============================] - 0s 43ms/step - loss: 1.9304 - acc: 0.2500\n",
      "Epoch 10/200\n",
      "8/8 [==============================] - 0s 42ms/step - loss: 1.8733 - acc: 0.2500\n",
      "Epoch 11/200\n",
      "8/8 [==============================] - 0s 43ms/step - loss: 1.8305 - acc: 0.2500\n",
      "Epoch 12/200\n",
      "8/8 [==============================] - 0s 43ms/step - loss: 1.7669 - acc: 0.2500\n",
      "Epoch 13/200\n",
      "8/8 [==============================] - 0s 45ms/step - loss: 1.7251 - acc: 0.1250\n",
      "Epoch 14/200\n",
      "8/8 [==============================] - 0s 45ms/step - loss: 1.6690 - acc: 0.2500\n",
      "Epoch 15/200\n",
      "8/8 [==============================] - 0s 39ms/step - loss: 1.6141 - acc: 0.2500\n",
      "Epoch 16/200\n",
      "8/8 [==============================] - 0s 46ms/step - loss: 1.5723 - acc: 0.2500\n",
      "Epoch 17/200\n",
      "8/8 [==============================] - 0s 47ms/step - loss: 1.5138 - acc: 0.3750\n",
      "Epoch 18/200\n",
      "8/8 [==============================] - 0s 43ms/step - loss: 1.4704 - acc: 0.2500\n",
      "Epoch 19/200\n",
      "8/8 [==============================] - 0s 44ms/step - loss: 1.4243 - acc: 0.3750\n",
      "Epoch 20/200\n",
      "8/8 [==============================] - 0s 48ms/step - loss: 1.3883 - acc: 0.3750\n",
      "Epoch 21/200\n",
      "8/8 [==============================] - 0s 43ms/step - loss: 1.3282 - acc: 0.3750\n",
      "Epoch 22/200\n",
      "8/8 [==============================] - 0s 44ms/step - loss: 1.3038 - acc: 0.3750\n",
      "Epoch 23/200\n",
      "8/8 [==============================] - 0s 43ms/step - loss: 1.2690 - acc: 0.5000\n",
      "Epoch 24/200\n",
      "8/8 [==============================] - 0s 44ms/step - loss: 1.2174 - acc: 0.5000\n",
      "Epoch 25/200\n",
      "8/8 [==============================] - 0s 47ms/step - loss: 1.1803 - acc: 0.5000\n",
      "Epoch 26/200\n",
      "8/8 [==============================] - 0s 46ms/step - loss: 1.1527 - acc: 0.5000\n",
      "Epoch 27/200\n",
      "8/8 [==============================] - 0s 46ms/step - loss: 1.1279 - acc: 0.5000\n",
      "Epoch 28/200\n",
      "8/8 [==============================] - 0s 44ms/step - loss: 1.0716 - acc: 0.5000\n",
      "Epoch 29/200\n",
      "8/8 [==============================] - 0s 46ms/step - loss: 1.0427 - acc: 0.5000\n",
      "Epoch 30/200\n",
      "8/8 [==============================] - 0s 47ms/step - loss: 1.0079 - acc: 0.5000\n",
      "Epoch 31/200\n",
      "8/8 [==============================] - 0s 45ms/step - loss: 0.9867 - acc: 0.5000\n",
      "Epoch 32/200\n",
      "8/8 [==============================] - 0s 47ms/step - loss: 0.9655 - acc: 0.5000\n",
      "Epoch 33/200\n",
      "8/8 [==============================] - 0s 45ms/step - loss: 0.9710 - acc: 0.6250\n",
      "Epoch 34/200\n",
      "8/8 [==============================] - 0s 44ms/step - loss: 0.9237 - acc: 0.5000\n",
      "Epoch 35/200\n",
      "8/8 [==============================] - 0s 43ms/step - loss: 0.8992 - acc: 0.6250\n",
      "Epoch 36/200\n",
      "8/8 [==============================] - 0s 43ms/step - loss: 0.8561 - acc: 0.7500\n",
      "Epoch 37/200\n",
      "8/8 [==============================] - 0s 43ms/step - loss: 0.8269 - acc: 0.7500\n",
      "Epoch 38/200\n",
      "8/8 [==============================] - 0s 43ms/step - loss: 0.8192 - acc: 0.6250\n",
      "Epoch 39/200\n",
      "8/8 [==============================] - 0s 42ms/step - loss: 0.8190 - acc: 0.6250\n",
      "Epoch 40/200\n",
      "8/8 [==============================] - 0s 43ms/step - loss: 0.7858 - acc: 0.5000\n",
      "Epoch 41/200\n",
      "8/8 [==============================] - 0s 42ms/step - loss: 0.7447 - acc: 0.6250\n",
      "Epoch 42/200\n",
      "8/8 [==============================] - 0s 42ms/step - loss: 0.7253 - acc: 0.6250\n",
      "Epoch 43/200\n",
      "8/8 [==============================] - 0s 43ms/step - loss: 0.7226 - acc: 0.7500\n",
      "Epoch 44/200\n",
      "8/8 [==============================] - 0s 42ms/step - loss: 0.6998 - acc: 0.8750\n",
      "Epoch 45/200\n",
      "8/8 [==============================] - 0s 43ms/step - loss: 0.6965 - acc: 0.6250\n",
      "Epoch 46/200\n",
      "8/8 [==============================] - 0s 43ms/step - loss: 0.6572 - acc: 0.7500\n",
      "Epoch 47/200\n",
      "8/8 [==============================] - 0s 45ms/step - loss: 0.6694 - acc: 0.7500\n",
      "Epoch 48/200\n",
      "8/8 [==============================] - 0s 47ms/step - loss: 0.6412 - acc: 0.7500\n",
      "Epoch 49/200\n",
      "8/8 [==============================] - 0s 48ms/step - loss: 0.6168 - acc: 0.7500\n",
      "Epoch 50/200\n",
      "8/8 [==============================] - 0s 47ms/step - loss: 0.6097 - acc: 0.8750\n",
      "Epoch 51/200\n",
      "8/8 [==============================] - 0s 47ms/step - loss: 0.6083 - acc: 0.7500\n",
      "Epoch 52/200\n",
      "8/8 [==============================] - 0s 49ms/step - loss: 0.5577 - acc: 0.7500\n",
      "Epoch 53/200\n",
      "8/8 [==============================] - 0s 42ms/step - loss: 0.5600 - acc: 1.0000\n",
      "Epoch 54/200\n",
      "8/8 [==============================] - 0s 42ms/step - loss: 0.5539 - acc: 0.7500\n",
      "Epoch 55/200\n",
      "8/8 [==============================] - 0s 43ms/step - loss: 0.5369 - acc: 0.8750\n",
      "Epoch 56/200\n",
      "8/8 [==============================] - 0s 42ms/step - loss: 0.5526 - acc: 0.7500\n",
      "Epoch 57/200\n",
      "8/8 [==============================] - 0s 46ms/step - loss: 0.5463 - acc: 0.7500\n",
      "Epoch 58/200\n",
      "8/8 [==============================] - 0s 49ms/step - loss: 0.5029 - acc: 0.8750\n",
      "Epoch 59/200\n",
      "8/8 [==============================] - 0s 43ms/step - loss: 0.4757 - acc: 1.0000\n",
      "Epoch 60/200\n",
      "8/8 [==============================] - 0s 49ms/step - loss: 0.4596 - acc: 1.0000\n",
      "Epoch 61/200\n",
      "8/8 [==============================] - 0s 44ms/step - loss: 0.4891 - acc: 0.8750\n",
      "Epoch 62/200\n",
      "8/8 [==============================] - 0s 44ms/step - loss: 0.4311 - acc: 0.8750\n",
      "Epoch 63/200\n",
      "8/8 [==============================] - 0s 43ms/step - loss: 0.4146 - acc: 1.0000\n",
      "Epoch 64/200\n",
      "8/8 [==============================] - 0s 44ms/step - loss: 0.4089 - acc: 1.0000\n",
      "Epoch 65/200\n",
      "8/8 [==============================] - 0s 43ms/step - loss: 0.4077 - acc: 1.0000\n",
      "Epoch 66/200\n",
      "8/8 [==============================] - 0s 43ms/step - loss: 0.3885 - acc: 1.0000\n",
      "Epoch 67/200\n",
      "8/8 [==============================] - 0s 43ms/step - loss: 0.3548 - acc: 1.0000\n",
      "Epoch 68/200\n",
      "8/8 [==============================] - 0s 43ms/step - loss: 0.3686 - acc: 1.0000\n",
      "Epoch 69/200\n",
      "8/8 [==============================] - 0s 43ms/step - loss: 0.3389 - acc: 1.0000\n",
      "Epoch 70/200\n",
      "8/8 [==============================] - 0s 43ms/step - loss: 0.3829 - acc: 0.8750\n",
      "Epoch 71/200\n",
      "8/8 [==============================] - 0s 44ms/step - loss: 0.3387 - acc: 1.0000\n",
      "Epoch 72/200\n",
      "8/8 [==============================] - 0s 43ms/step - loss: 0.3362 - acc: 1.0000\n",
      "Epoch 73/200\n",
      "8/8 [==============================] - 0s 43ms/step - loss: 0.3073 - acc: 1.0000\n",
      "Epoch 74/200\n",
      "8/8 [==============================] - 0s 43ms/step - loss: 0.3700 - acc: 0.7500\n",
      "Epoch 75/200\n",
      "8/8 [==============================] - 0s 43ms/step - loss: 0.3447 - acc: 0.8750\n",
      "Epoch 76/200\n",
      "8/8 [==============================] - 0s 44ms/step - loss: 0.2929 - acc: 1.0000\n",
      "Epoch 77/200\n",
      "8/8 [==============================] - 0s 42ms/step - loss: 0.3105 - acc: 0.8750\n",
      "Epoch 78/200\n",
      "8/8 [==============================] - 0s 43ms/step - loss: 0.2882 - acc: 1.0000\n",
      "Epoch 79/200\n",
      "8/8 [==============================] - 0s 44ms/step - loss: 0.2433 - acc: 1.0000\n",
      "Epoch 80/200\n",
      "8/8 [==============================] - 0s 44ms/step - loss: 0.2825 - acc: 1.0000\n",
      "Epoch 81/200\n",
      "8/8 [==============================] - 0s 50ms/step - loss: 0.2377 - acc: 1.0000\n",
      "Epoch 82/200\n",
      "8/8 [==============================] - 0s 49ms/step - loss: 0.2206 - acc: 1.0000\n",
      "Epoch 83/200\n",
      "8/8 [==============================] - 0s 49ms/step - loss: 0.2194 - acc: 1.0000\n",
      "Epoch 84/200\n",
      "8/8 [==============================] - 0s 46ms/step - loss: 0.1908 - acc: 1.0000\n",
      "Epoch 85/200\n",
      "8/8 [==============================] - 0s 43ms/step - loss: 0.2053 - acc: 1.0000\n",
      "Epoch 86/200\n",
      "8/8 [==============================] - 0s 43ms/step - loss: 0.2229 - acc: 1.0000\n",
      "Epoch 87/200\n",
      "8/8 [==============================] - 0s 43ms/step - loss: 0.1706 - acc: 1.0000\n",
      "Epoch 88/200\n"
     ]
    },
    {
     "name": "stdout",
     "output_type": "stream",
     "text": [
      "8/8 [==============================] - 0s 43ms/step - loss: 0.2204 - acc: 0.8750\n",
      "Epoch 89/200\n",
      "8/8 [==============================] - 0s 42ms/step - loss: 0.1713 - acc: 1.0000\n",
      "Epoch 90/200\n",
      "8/8 [==============================] - 0s 42ms/step - loss: 0.1583 - acc: 1.0000\n",
      "Epoch 91/200\n",
      "8/8 [==============================] - 0s 42ms/step - loss: 0.1618 - acc: 1.0000\n",
      "Epoch 92/200\n",
      "8/8 [==============================] - 0s 42ms/step - loss: 0.1564 - acc: 1.0000\n",
      "Epoch 93/200\n",
      "8/8 [==============================] - 0s 42ms/step - loss: 0.1517 - acc: 1.0000\n",
      "Epoch 94/200\n",
      "8/8 [==============================] - 0s 42ms/step - loss: 0.1719 - acc: 1.0000\n",
      "Epoch 95/200\n",
      "8/8 [==============================] - 0s 42ms/step - loss: 0.1454 - acc: 1.0000\n",
      "Epoch 96/200\n",
      "8/8 [==============================] - 0s 42ms/step - loss: 0.1366 - acc: 1.0000\n",
      "Epoch 97/200\n",
      "8/8 [==============================] - 0s 42ms/step - loss: 0.1301 - acc: 1.0000\n",
      "Epoch 98/200\n",
      "8/8 [==============================] - 0s 42ms/step - loss: 0.1474 - acc: 1.0000\n",
      "Epoch 99/200\n",
      "8/8 [==============================] - 0s 42ms/step - loss: 0.1347 - acc: 1.0000\n",
      "Epoch 100/200\n",
      "8/8 [==============================] - 0s 42ms/step - loss: 0.1126 - acc: 1.0000\n",
      "Epoch 101/200\n",
      "8/8 [==============================] - 0s 42ms/step - loss: 0.1199 - acc: 1.0000\n",
      "Epoch 102/200\n",
      "8/8 [==============================] - 0s 42ms/step - loss: 0.1123 - acc: 1.0000\n",
      "Epoch 103/200\n",
      "8/8 [==============================] - 0s 42ms/step - loss: 0.1019 - acc: 1.0000\n",
      "Epoch 104/200\n",
      "8/8 [==============================] - 0s 42ms/step - loss: 0.0920 - acc: 1.0000\n",
      "Epoch 105/200\n",
      "8/8 [==============================] - 0s 42ms/step - loss: 0.0927 - acc: 1.0000\n",
      "Epoch 106/200\n",
      "8/8 [==============================] - 0s 42ms/step - loss: 0.0856 - acc: 1.0000\n",
      "Epoch 107/200\n",
      "8/8 [==============================] - 0s 42ms/step - loss: 0.0842 - acc: 1.0000\n",
      "Epoch 108/200\n",
      "8/8 [==============================] - 0s 41ms/step - loss: 0.0770 - acc: 1.0000\n",
      "Epoch 109/200\n",
      "8/8 [==============================] - 0s 42ms/step - loss: 0.0743 - acc: 1.0000\n",
      "Epoch 110/200\n",
      "8/8 [==============================] - 0s 41ms/step - loss: 0.0745 - acc: 1.0000\n",
      "Epoch 111/200\n",
      "8/8 [==============================] - 0s 42ms/step - loss: 0.0742 - acc: 1.0000\n",
      "Epoch 112/200\n",
      "8/8 [==============================] - 0s 42ms/step - loss: 0.0699 - acc: 1.0000\n",
      "Epoch 113/200\n",
      "8/8 [==============================] - 0s 42ms/step - loss: 0.0644 - acc: 1.0000\n",
      "Epoch 114/200\n",
      "8/8 [==============================] - 0s 42ms/step - loss: 0.0666 - acc: 1.0000\n",
      "Epoch 115/200\n",
      "8/8 [==============================] - 0s 42ms/step - loss: 0.0602 - acc: 1.0000\n",
      "Epoch 116/200\n",
      "8/8 [==============================] - 0s 42ms/step - loss: 0.0707 - acc: 1.0000\n",
      "Epoch 117/200\n",
      "8/8 [==============================] - 0s 43ms/step - loss: 0.0540 - acc: 1.0000\n",
      "Epoch 118/200\n",
      "8/8 [==============================] - 0s 41ms/step - loss: 0.0678 - acc: 1.0000\n",
      "Epoch 119/200\n",
      "8/8 [==============================] - 0s 41ms/step - loss: 0.0633 - acc: 1.0000\n",
      "Epoch 120/200\n",
      "8/8 [==============================] - 0s 47ms/step - loss: 0.0599 - acc: 1.0000\n",
      "Epoch 121/200\n",
      "8/8 [==============================] - 0s 48ms/step - loss: 0.0484 - acc: 1.0000\n",
      "Epoch 122/200\n",
      "8/8 [==============================] - 0s 48ms/step - loss: 0.0485 - acc: 1.0000\n",
      "Epoch 123/200\n",
      "8/8 [==============================] - 0s 48ms/step - loss: 0.0450 - acc: 1.0000\n",
      "Epoch 124/200\n",
      "8/8 [==============================] - 0s 48ms/step - loss: 0.0447 - acc: 1.0000\n",
      "Epoch 125/200\n",
      "8/8 [==============================] - 0s 44ms/step - loss: 0.0433 - acc: 1.0000\n",
      "Epoch 126/200\n",
      "8/8 [==============================] - 0s 43ms/step - loss: 0.0421 - acc: 1.0000\n",
      "Epoch 127/200\n",
      "8/8 [==============================] - 0s 42ms/step - loss: 0.0428 - acc: 1.0000\n",
      "Epoch 128/200\n",
      "8/8 [==============================] - 0s 43ms/step - loss: 0.0474 - acc: 1.0000\n",
      "Epoch 129/200\n",
      "8/8 [==============================] - 0s 42ms/step - loss: 0.0422 - acc: 1.0000\n",
      "Epoch 130/200\n",
      "8/8 [==============================] - 0s 42ms/step - loss: 0.0408 - acc: 1.0000\n",
      "Epoch 131/200\n",
      "8/8 [==============================] - 0s 43ms/step - loss: 0.0419 - acc: 1.0000\n",
      "Epoch 132/200\n",
      "8/8 [==============================] - 0s 42ms/step - loss: 0.0373 - acc: 1.0000\n",
      "Epoch 133/200\n",
      "8/8 [==============================] - 0s 43ms/step - loss: 0.0364 - acc: 1.0000\n",
      "Epoch 134/200\n",
      "8/8 [==============================] - 0s 43ms/step - loss: 0.0320 - acc: 1.0000\n",
      "Epoch 135/200\n",
      "8/8 [==============================] - 0s 48ms/step - loss: 0.0321 - acc: 1.0000\n",
      "Epoch 136/200\n",
      "8/8 [==============================] - 0s 48ms/step - loss: 0.0312 - acc: 1.0000\n",
      "Epoch 137/200\n",
      "8/8 [==============================] - 0s 43ms/step - loss: 0.0307 - acc: 1.0000\n",
      "Epoch 138/200\n",
      "8/8 [==============================] - 0s 42ms/step - loss: 0.0305 - acc: 1.0000\n",
      "Epoch 139/200\n",
      "8/8 [==============================] - 0s 42ms/step - loss: 0.0272 - acc: 1.0000\n",
      "Epoch 140/200\n",
      "8/8 [==============================] - 0s 42ms/step - loss: 0.0271 - acc: 1.0000\n",
      "Epoch 141/200\n",
      "8/8 [==============================] - 0s 42ms/step - loss: 0.0268 - acc: 1.0000\n",
      "Epoch 142/200\n",
      "8/8 [==============================] - 0s 42ms/step - loss: 0.0271 - acc: 1.0000\n",
      "Epoch 143/200\n",
      "8/8 [==============================] - 0s 43ms/step - loss: 0.0249 - acc: 1.0000\n",
      "Epoch 144/200\n",
      "8/8 [==============================] - 0s 42ms/step - loss: 0.0252 - acc: 1.0000\n",
      "Epoch 145/200\n",
      "8/8 [==============================] - 0s 43ms/step - loss: 0.0243 - acc: 1.0000\n",
      "Epoch 146/200\n",
      "8/8 [==============================] - 0s 43ms/step - loss: 0.0230 - acc: 1.0000\n",
      "Epoch 147/200\n",
      "8/8 [==============================] - 0s 43ms/step - loss: 0.0248 - acc: 1.0000\n",
      "Epoch 148/200\n",
      "8/8 [==============================] - 0s 43ms/step - loss: 0.0232 - acc: 1.0000\n",
      "Epoch 149/200\n",
      "8/8 [==============================] - 0s 42ms/step - loss: 0.0221 - acc: 1.0000\n",
      "Epoch 150/200\n",
      "8/8 [==============================] - 0s 42ms/step - loss: 0.0213 - acc: 1.0000\n",
      "Epoch 151/200\n",
      "8/8 [==============================] - 0s 42ms/step - loss: 0.0224 - acc: 1.0000\n",
      "Epoch 152/200\n",
      "8/8 [==============================] - 0s 43ms/step - loss: 0.0197 - acc: 1.0000\n",
      "Epoch 153/200\n",
      "8/8 [==============================] - 0s 48ms/step - loss: 0.0200 - acc: 1.0000\n",
      "Epoch 154/200\n",
      "8/8 [==============================] - 0s 44ms/step - loss: 0.0191 - acc: 1.0000\n",
      "Epoch 155/200\n",
      "8/8 [==============================] - 0s 43ms/step - loss: 0.0187 - acc: 1.0000\n",
      "Epoch 156/200\n",
      "8/8 [==============================] - 0s 43ms/step - loss: 0.0184 - acc: 1.0000\n",
      "Epoch 157/200\n",
      "8/8 [==============================] - 0s 42ms/step - loss: 0.0191 - acc: 1.0000\n",
      "Epoch 158/200\n",
      "8/8 [==============================] - 0s 43ms/step - loss: 0.0174 - acc: 1.0000\n",
      "Epoch 159/200\n",
      "8/8 [==============================] - 0s 42ms/step - loss: 0.0174 - acc: 1.0000\n",
      "Epoch 160/200\n",
      "8/8 [==============================] - 0s 42ms/step - loss: 0.0169 - acc: 1.0000\n",
      "Epoch 161/200\n",
      "8/8 [==============================] - 0s 43ms/step - loss: 0.0165 - acc: 1.0000\n",
      "Epoch 162/200\n",
      "8/8 [==============================] - 0s 42ms/step - loss: 0.0156 - acc: 1.0000\n",
      "Epoch 163/200\n",
      "8/8 [==============================] - 0s 43ms/step - loss: 0.0166 - acc: 1.0000\n",
      "Epoch 164/200\n",
      "8/8 [==============================] - 0s 42ms/step - loss: 0.0153 - acc: 1.0000\n",
      "Epoch 165/200\n",
      "8/8 [==============================] - 0s 48ms/step - loss: 0.0164 - acc: 1.0000\n",
      "Epoch 166/200\n",
      "8/8 [==============================] - 0s 45ms/step - loss: 0.0150 - acc: 1.0000\n",
      "Epoch 167/200\n",
      "8/8 [==============================] - 0s 47ms/step - loss: 0.0145 - acc: 1.0000\n",
      "Epoch 168/200\n",
      "8/8 [==============================] - 0s 42ms/step - loss: 0.0147 - acc: 1.0000\n",
      "Epoch 169/200\n",
      "8/8 [==============================] - 0s 43ms/step - loss: 0.0141 - acc: 1.0000\n",
      "Epoch 170/200\n",
      "8/8 [==============================] - 0s 42ms/step - loss: 0.0147 - acc: 1.0000\n",
      "Epoch 171/200\n",
      "8/8 [==============================] - 0s 43ms/step - loss: 0.0159 - acc: 1.0000\n",
      "Epoch 172/200\n",
      "8/8 [==============================] - 0s 43ms/step - loss: 0.0132 - acc: 1.0000\n",
      "Epoch 173/200\n",
      "8/8 [==============================] - 0s 43ms/step - loss: 0.0142 - acc: 1.0000\n",
      "Epoch 174/200\n"
     ]
    },
    {
     "name": "stdout",
     "output_type": "stream",
     "text": [
      "8/8 [==============================] - 0s 48ms/step - loss: 0.0130 - acc: 1.0000\n",
      "Epoch 175/200\n",
      "8/8 [==============================] - 0s 43ms/step - loss: 0.0123 - acc: 1.0000\n",
      "Epoch 176/200\n",
      "8/8 [==============================] - 0s 42ms/step - loss: 0.0125 - acc: 1.0000\n",
      "Epoch 177/200\n",
      "8/8 [==============================] - 0s 42ms/step - loss: 0.0120 - acc: 1.0000\n",
      "Epoch 178/200\n",
      "8/8 [==============================] - 0s 42ms/step - loss: 0.0113 - acc: 1.0000\n",
      "Epoch 179/200\n",
      "8/8 [==============================] - 0s 41ms/step - loss: 0.0119 - acc: 1.0000\n",
      "Epoch 180/200\n",
      "8/8 [==============================] - 0s 42ms/step - loss: 0.0109 - acc: 1.0000\n",
      "Epoch 181/200\n",
      "8/8 [==============================] - 0s 42ms/step - loss: 0.0112 - acc: 1.0000\n",
      "Epoch 182/200\n",
      "8/8 [==============================] - 0s 42ms/step - loss: 0.0108 - acc: 1.0000\n",
      "Epoch 183/200\n",
      "8/8 [==============================] - 0s 42ms/step - loss: 0.0110 - acc: 1.0000\n",
      "Epoch 184/200\n",
      "8/8 [==============================] - 0s 42ms/step - loss: 0.0107 - acc: 1.0000\n",
      "Epoch 185/200\n",
      "8/8 [==============================] - 0s 42ms/step - loss: 0.0101 - acc: 1.0000\n",
      "Epoch 186/200\n",
      "8/8 [==============================] - 0s 41ms/step - loss: 0.0099 - acc: 1.0000\n",
      "Epoch 187/200\n",
      "8/8 [==============================] - 0s 42ms/step - loss: 0.0097 - acc: 1.0000\n",
      "Epoch 188/200\n",
      "8/8 [==============================] - 0s 42ms/step - loss: 0.0096 - acc: 1.0000\n",
      "Epoch 189/200\n",
      "8/8 [==============================] - 0s 42ms/step - loss: 0.0093 - acc: 1.0000\n",
      "Epoch 190/200\n",
      "8/8 [==============================] - 0s 42ms/step - loss: 0.0095 - acc: 1.0000\n",
      "Epoch 191/200\n",
      "8/8 [==============================] - 0s 42ms/step - loss: 0.0090 - acc: 1.0000\n",
      "Epoch 192/200\n",
      "8/8 [==============================] - 0s 48ms/step - loss: 0.0088 - acc: 1.0000\n",
      "Epoch 193/200\n",
      "8/8 [==============================] - 0s 48ms/step - loss: 0.0096 - acc: 1.0000\n",
      "Epoch 194/200\n",
      "8/8 [==============================] - 0s 48ms/step - loss: 0.0086 - acc: 1.0000\n",
      "Epoch 195/200\n",
      "8/8 [==============================] - 0s 43ms/step - loss: 0.0088 - acc: 1.0000\n",
      "Epoch 196/200\n",
      "8/8 [==============================] - 0s 42ms/step - loss: 0.0086 - acc: 1.0000\n",
      "Epoch 197/200\n",
      "8/8 [==============================] - 0s 43ms/step - loss: 0.0086 - acc: 1.0000\n",
      "Epoch 198/200\n",
      "8/8 [==============================] - 0s 43ms/step - loss: 0.0081 - acc: 1.0000\n",
      "Epoch 199/200\n",
      "8/8 [==============================] - 0s 42ms/step - loss: 0.0082 - acc: 1.0000\n",
      "Epoch 200/200\n",
      "8/8 [==============================] - 0s 42ms/step - loss: 0.0081 - acc: 1.0000\n"
     ]
    }
   ],
   "source": [
    "history=model.fit(trainX, Z, validation_split=0, shuffle=True, batch_size = 1, epochs = 200, verbose=1)"
   ]
  },
  {
   "cell_type": "code",
   "execution_count": 73,
   "metadata": {},
   "outputs": [],
   "source": [
    "#eval training results"
   ]
  },
  {
   "cell_type": "code",
   "execution_count": 157,
   "metadata": {
    "_uuid": "14530a6b085ad9a0975176a0bfadb59fae83cb6b"
   },
   "outputs": [
    {
     "data": {
      "image/png": "[encoded data removed]",
      "text/plain": [
       "<Figure size 432x288 with 1 Axes>"
      ]
     },
     "metadata": {
      "needs_background": "light"
     },
     "output_type": "display_data"
    },
    {
     "data": {
      "image/png": "[encoded data removed]",
      "text/plain": [
       "<Figure size 432x288 with 1 Axes>"
      ]
     },
     "metadata": {
      "needs_background": "light"
     },
     "output_type": "display_data"
    }
   ],
   "source": [
    "plt.plot(history.history['acc'])\n",
    "plt.ylabel('Accuracy')\n",
    "plt.xlabel('Epoch')\n",
    "plt.legend(['Train', 'Test'], loc='upper left')\n",
    "plt.show()\n",
    "\n",
    "# Plot training & validation loss values\n",
    "plt.plot(history.history['loss'])\n",
    "# plt.plot(history.history['val_loss'])\n",
    "plt.title('Model loss')\n",
    "plt.ylabel('Loss')\n",
    "plt.xlabel('Epoch')\n",
    "plt.legend(['Train', 'Test'], loc='upper left')\n",
    "plt.show()"
   ]
  },
  {
   "cell_type": "code",
   "execution_count": 33,
   "metadata": {
    "_uuid": "880e7fea0b1d7e3dc23240800a9058ea735869f6"
   },
   "outputs": [],
   "source": [
    "test_set=test_set.transpose()"
   ]
  },
  {
   "cell_type": "code",
   "execution_count": 34,
   "metadata": {},
   "outputs": [],
   "source": [
    "#normalizing test set"
   ]
  },
  {
   "cell_type": "code",
   "execution_count": 35,
   "metadata": {},
   "outputs": [],
   "source": [
    "test_set/=np.linalg.norm(test_set)"
   ]
  },
  {
   "cell_type": "code",
   "execution_count": 36,
   "metadata": {},
   "outputs": [],
   "source": [
    "#testing trained NN on the test set"
   ]
  },
  {
   "cell_type": "code",
   "execution_count": 84,
   "metadata": {},
   "outputs": [
    {
     "data": {
      "text/plain": [
       "array([0.00092704, 0.00042485, 0.00014782, ..., 0.0012168 , 0.00024473,\n",
       "       0.00234451])"
      ]
     },
     "execution_count": 84,
     "metadata": {},
     "output_type": "execute_result"
    }
   ],
   "source": [
    "test_set[0,:]"
   ]
  },
  {
   "cell_type": "code",
   "execution_count": 158,
   "metadata": {
    "_uuid": "28102b12495eeec454bf061716c7b5a67eaa9085"
   },
   "outputs": [],
   "source": [
    "classes = model.predict(test_set, batch_size=1)"
   ]
  },
  {
   "cell_type": "code",
   "execution_count": 159,
   "metadata": {
    "_uuid": "d7ac9ddc78e22dbbd08c230e1f1e27f06759e95e"
   },
   "outputs": [
    {
     "name": "stdout",
     "output_type": "stream",
     "text": [
      "0 0.73508215\n",
      "1 0.85814714\n",
      "2 0.99353176\n",
      "3 0.960562\n",
      "4 0.8844232\n",
      "1 0.9563377\n",
      "6 0.99121\n",
      "7 0.9614951\n"
     ]
    }
   ],
   "source": [
    "for i in range(classes.shape[0]):\n",
    "    print(classes[i].argmax(), classes[i].max())"
   ]
  },
  {
   "cell_type": "code",
   "execution_count": 160,
   "metadata": {},
   "outputs": [
    {
     "name": "stdout",
     "output_type": "stream",
     "text": [
      "Test set error = 12.5 %\n"
     ]
    }
   ],
   "source": [
    "error=np.zeros((classes.shape[0]))\n",
    "for i in range(classes.shape[0]):\n",
    "    if Z[i].argmax()-classes[i].argmax()==0:\n",
    "        error[i]=0\n",
    "    else:\n",
    "        error[i]=1\n",
    "print('Test set error =', error.sum()/len(error)*100, '%')"
   ]
  },
  {
   "cell_type": "code",
   "execution_count": null,
   "metadata": {},
   "outputs": [],
   "source": []
  }
 ],
 "metadata": {
  "kernelspec": {
   "display_name": "Python 3",
   "language": "python",
   "name": "python3"
  },
  "language_info": {
   "codemirror_mode": {
    "name": "ipython",
    "version": 3
   },
   "file_extension": ".py",
   "mimetype": "text/x-python",
   "name": "python",
   "nbconvert_exporter": "python",
   "pygments_lexer": "ipython3",
   "version": "3.6.8"
  }
 },
 "nbformat": 4,
 "nbformat_minor": 1
}
